{
 "cells": [
  {
   "cell_type": "code",
   "execution_count": 1,
   "metadata": {},
   "outputs": [],
   "source": [
    "# imports\n",
    "import xgboost as xgb\n",
    "import pandas as pd\n",
    "import yaml\n",
    "from python_scripts.model_performance import generate_df_summary\n",
    "\n",
    "# import model\n",
    "model = xgb.XGBClassifier()\n",
    "model.load_model('saved_models/final_model/final_model.json')\n",
    "\n",
    "# import test data\n",
    "X_test = pd.read_parquet('data/X_test.parquet')\n",
    "y_test = pd.read_csv('data/y_test.csv')\n"
   ]
  },
  {
   "cell_type": "code",
   "execution_count": 2,
   "metadata": {},
   "outputs": [],
   "source": [
    "# predict on test set using optimised threshold\n",
    "with open('model_settings.yaml', 'r') as file:\n",
    "    model_settings = yaml.safe_load(file)\n",
    "best_threshold = model_settings['best_threshold']\n",
    "\n",
    "y_proba = model.predict_proba(X_test)[:, 1]\n",
    "y_pred = (y_proba >= best_threshold).astype(int)"
   ]
  },
  {
   "cell_type": "code",
   "execution_count": 19,
   "metadata": {},
   "outputs": [
    {
     "name": "stdout",
     "output_type": "stream",
     "text": [
      "Precision: 0.28\n",
      "Recall: 0.27\n",
      "F1-Score: 0.28\n",
      "\n",
      "Confusion Matrix:\n",
      "\n",
      "               Pred Class 0  Pred Class 1\n",
      "True Class 0         94434           981\n",
      "True Class 1          1041           387\n"
     ]
    }
   ],
   "source": [
    "generate_df_summary(model, y_test, y_pred, 'final_model_test', threshold=best_threshold)\n"
   ]
  }
 ],
 "metadata": {
  "kernelspec": {
   "display_name": "pyml",
   "language": "python",
   "name": "python3"
  },
  "language_info": {
   "codemirror_mode": {
    "name": "ipython",
    "version": 3
   },
   "file_extension": ".py",
   "mimetype": "text/x-python",
   "name": "python",
   "nbconvert_exporter": "python",
   "pygments_lexer": "ipython3",
   "version": "3.9.21"
  },
  "orig_nbformat": 4
 },
 "nbformat": 4,
 "nbformat_minor": 2
}

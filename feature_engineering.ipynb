{
 "cells": [
  {
   "attachments": {},
   "cell_type": "markdown",
   "metadata": {},
   "source": [
    "## Import data and packages"
   ]
  },
  {
   "cell_type": "code",
   "execution_count": 215,
   "metadata": {},
   "outputs": [],
   "source": [
    "import pandas as pd \n",
    "pd.set_option('display.max_columns', None)\n",
    "pd.set_option('display.max_rows', 200)\n",
    "import numpy as np \n",
    "import json\n",
    "import warnings\n",
    "warnings.filterwarnings(\"ignore\")\n",
    "from sklearn.model_selection import train_test_split\n",
    "from sklearn.preprocessing import OneHotEncoder\n",
    "\n",
    "\n",
    "\n",
    "# import data\n",
    "df_base = pd.read_csv('data/Base.csv') \n",
    "\n",
    "# import feature data types\n",
    "with open('python_scripts/data_types.json') as f:\n",
    "    data_types = json.load(f) \n",
    "\n",
    "# encoding source {'INTERNET', 'TELEAPP'} into source_is_internet_not_teleapp\n",
    "df_base['source_is_internet_not_teleapp'] = (df_base['source'] == 'INTERNET').astype(int)\n",
    "df_base.drop('source', axis=1, inplace=True)\n",
    "\n",
    "\n",
    "# recording which variables have missing values recorded as -1\n",
    "missing_values = ['prev_address_months_count',\n",
    "                  'current_address_months_count',\n",
    "                  'bank_months_count',\n",
    "                  'session_length_in_minutes',\n",
    "                  'device_distinct_emails_8w']"
   ]
  },
  {
   "attachments": {},
   "cell_type": "markdown",
   "metadata": {},
   "source": [
    "### Divide dataset into training set and testing set"
   ]
  },
  {
   "cell_type": "code",
   "execution_count": 216,
   "metadata": {},
   "outputs": [],
   "source": [
    "# Split the data into training and test sets\n",
    "X_train, X_test, y_train, y_test = train_test_split(df_base.drop('fraud_bool', axis=1), df_base.fraud_bool, test_size=0.2, random_state=0)\n"
   ]
  },
  {
   "attachments": {},
   "cell_type": "markdown",
   "metadata": {},
   "source": [
    "### Deal with missing values"
   ]
  },
  {
   "cell_type": "code",
   "execution_count": 217,
   "metadata": {},
   "outputs": [],
   "source": [
    "# device_distinct_emails_8w - impute missing values with mode (since it is categories, dont necessarily want middle value, just the most represented)\n",
    "device_distinct_emails_8w_mode = X_train.device_distinct_emails_8w.value_counts().sort_values(ascending=False).index[0]\n",
    "\n",
    "X_train.loc[X_train.device_distinct_emails_8w == -1, 'device_distinct_emails_8w'] = device_distinct_emails_8w_mode\n",
    "X_test.loc[X_test.device_distinct_emails_8w == -1, 'device_distinct_emails_8w'] = device_distinct_emails_8w_mode\n"
   ]
  },
  {
   "cell_type": "code",
   "execution_count": 218,
   "metadata": {},
   "outputs": [],
   "source": [
    "# session_length_in_minutes - impute missing values with median\n",
    "session_length_in_minutes_median_position = int(np.ceil((len(X_train[X_train.session_length_in_minutes != -1])/2)-1))\n",
    "session_length_in_minutes_median = sorted(X_train[X_train.session_length_in_minutes != -1].session_length_in_minutes)[session_length_in_minutes_median_position]\n",
    "\n",
    "X_train.loc[X_train.session_length_in_minutes == -1, 'session_length_in_minutes'] = session_length_in_minutes_median\n",
    "X_test.loc[X_test.session_length_in_minutes == -1, 'session_length_in_minutes'] = session_length_in_minutes_median\n"
   ]
  },
  {
   "cell_type": "code",
   "execution_count": 219,
   "metadata": {},
   "outputs": [],
   "source": [
    "# drop bank_months_count, create binary feature for value provided or not\n",
    "X_train['bank_months_count_provided'] = [0 if i == -1 else 1 for i in X_train.bank_months_count]\n",
    "X_train.drop('bank_months_count', axis=1, inplace=True)\n",
    "\n",
    "X_test['bank_months_count_provided'] = [0 if i == -1 else 1 for i in X_test.bank_months_count]\n",
    "X_test.drop('bank_months_count', axis=1, inplace=True)"
   ]
  },
  {
   "cell_type": "code",
   "execution_count": 220,
   "metadata": {},
   "outputs": [],
   "source": [
    "# drop prev_address_months_count (too many missing values), create binary feature for value provided or not\n",
    "X_train['prev_address_months_count_provided'] = [0 if i == -1 else 1 for i in X_train.prev_address_months_count]\n",
    "X_train.drop('prev_address_months_count', axis=1, inplace=True)\n",
    "\n",
    "X_test['prev_address_months_count_provided'] = [0 if i == -1 else 1 for i in X_test.prev_address_months_count]\n",
    "X_test.drop('prev_address_months_count', axis=1, inplace=True)"
   ]
  },
  {
   "cell_type": "code",
   "execution_count": 221,
   "metadata": {},
   "outputs": [],
   "source": [
    "# current_address_months_count - impute missing values with median\n",
    "X_train['current_address_months_count_provided'] = [0 if i == -1 else 1 for i in X_train.current_address_months_count]\n",
    "X_test['current_address_months_count_provided'] = [0 if i == -1 else 1 for i in X_test.current_address_months_count]\n",
    "\n",
    "# and create binary features for value provided or not\n",
    "\n",
    "current_address_months_count_median_position = int(np.ceil((len(X_train[X_train['current_address_months_count'] != -1])/2)-1))\n",
    "current_address_months_count_median = sorted(X_train[X_train['current_address_months_count'] != -1]['current_address_months_count'])[current_address_months_count_median_position]\n",
    "\n",
    "X_train.loc[X_train['current_address_months_count'] == -1, 'current_address_months_count'] = current_address_months_count_median\n",
    "X_test.loc[X_test['current_address_months_count'] == -1, 'current_address_months_count'] = current_address_months_count_median"
   ]
  },
  {
   "attachments": {},
   "cell_type": "markdown",
   "metadata": {},
   "source": [
    "### Encode and simplfy categorical features"
   ]
  },
  {
   "cell_type": "code",
   "execution_count": 222,
   "metadata": {},
   "outputs": [],
   "source": [
    "# drop device_fraud_count (single value)\n",
    "X_train.drop('device_fraud_count', axis=1, inplace=True)\n",
    "X_test.drop('device_fraud_count', axis=1, inplace=True)"
   ]
  },
  {
   "cell_type": "code",
   "execution_count": 223,
   "metadata": {},
   "outputs": [],
   "source": [
    "# simplying proposed credit limit to 5 categories\n",
    "categories_to_keep = X_train.proposed_credit_limit.value_counts().index[:4] # taking 4 largest represented proposed limits\n",
    "X_train['proposed_credit_limit'] = X_train['proposed_credit_limit'].where(X_train['proposed_credit_limit'].isin(categories_to_keep), 'other').astype(str)\n",
    "X_test['proposed_credit_limit'] = X_test['proposed_credit_limit'].where(X_test['proposed_credit_limit'].isin(categories_to_keep), 'other').astype(str)"
   ]
  },
  {
   "cell_type": "code",
   "execution_count": 224,
   "metadata": {},
   "outputs": [],
   "source": [
    "# one hot encoding\n",
    "categories_to_encode = ['proposed_credit_limit', 'payment_type', 'employment_status', 'housing_status', 'device_os']\n",
    "ohe = OneHotEncoder(sparse_output=False, handle_unknown='ignore', drop='first') \n",
    "encoded_array = ohe.fit_transform(X_train[categories_to_encode])\n",
    "encoded_df = pd.DataFrame(encoded_array, columns=ohe.get_feature_names_out())\n",
    "X_train = pd.concat([X_train.drop(columns=categories_to_encode).reset_index(drop=True), encoded_df.reset_index(drop=True)], axis=1)\n",
    "\n",
    "encoded_array_test = ohe.transform(X_test[categories_to_encode])\n",
    "encoded_df_test = pd.DataFrame(encoded_array_test, columns=ohe.get_feature_names_out())\n",
    "X_test = pd.concat([X_test.drop(columns=categories_to_encode).reset_index(drop=True), encoded_df_test.reset_index(drop=True)], axis=1)\n"
   ]
  },
  {
   "attachments": {},
   "cell_type": "markdown",
   "metadata": {},
   "source": [
    "### Log transformations of skewed features"
   ]
  },
  {
   "cell_type": "code",
   "execution_count": 294,
   "metadata": {},
   "outputs": [
    {
     "data": {
      "text/html": [
       "<div>\n",
       "<style scoped>\n",
       "    .dataframe tbody tr th:only-of-type {\n",
       "        vertical-align: middle;\n",
       "    }\n",
       "\n",
       "    .dataframe tbody tr th {\n",
       "        vertical-align: top;\n",
       "    }\n",
       "\n",
       "    .dataframe thead th {\n",
       "        text-align: right;\n",
       "    }\n",
       "</style>\n",
       "<table border=\"1\" class=\"dataframe\">\n",
       "  <thead>\n",
       "    <tr style=\"text-align: right;\">\n",
       "      <th></th>\n",
       "      <th>Skewness</th>\n",
       "      <th>Min</th>\n",
       "    </tr>\n",
       "    <tr>\n",
       "      <th>Feature</th>\n",
       "      <th></th>\n",
       "      <th></th>\n",
       "    </tr>\n",
       "  </thead>\n",
       "  <tbody>\n",
       "    <tr>\n",
       "      <th>days_since_request</th>\n",
       "      <td>9.278334</td>\n",
       "      <td>4.036860e-09</td>\n",
       "    </tr>\n",
       "    <tr>\n",
       "      <th>session_length_in_minutes</th>\n",
       "      <td>3.315531</td>\n",
       "      <td>8.720274e-04</td>\n",
       "    </tr>\n",
       "    <tr>\n",
       "      <th>bank_branch_count_8w</th>\n",
       "      <td>2.746926</td>\n",
       "      <td>0.000000e+00</td>\n",
       "    </tr>\n",
       "    <tr>\n",
       "      <th>intended_balcon_amount</th>\n",
       "      <td>2.505943</td>\n",
       "      <td>-1.553055e+01</td>\n",
       "    </tr>\n",
       "    <tr>\n",
       "      <th>zip_count_4w</th>\n",
       "      <td>1.454840</td>\n",
       "      <td>1.000000e+00</td>\n",
       "    </tr>\n",
       "    <tr>\n",
       "      <th>current_address_months_count</th>\n",
       "      <td>1.389416</td>\n",
       "      <td>0.000000e+00</td>\n",
       "    </tr>\n",
       "    <tr>\n",
       "      <th>date_of_birth_distinct_emails_4w</th>\n",
       "      <td>0.703265</td>\n",
       "      <td>0.000000e+00</td>\n",
       "    </tr>\n",
       "    <tr>\n",
       "      <th>velocity_6h</th>\n",
       "      <td>0.563249</td>\n",
       "      <td>-1.554307e+02</td>\n",
       "    </tr>\n",
       "    <tr>\n",
       "      <th>customer_age</th>\n",
       "      <td>0.479187</td>\n",
       "      <td>1.000000e+01</td>\n",
       "    </tr>\n",
       "    <tr>\n",
       "      <th>velocity_24h</th>\n",
       "      <td>0.329749</td>\n",
       "      <td>1.300307e+03</td>\n",
       "    </tr>\n",
       "    <tr>\n",
       "      <th>credit_risk_score</th>\n",
       "      <td>0.296217</td>\n",
       "      <td>-1.690000e+02</td>\n",
       "    </tr>\n",
       "    <tr>\n",
       "      <th>name_email_similarity</th>\n",
       "      <td>0.042499</td>\n",
       "      <td>1.015545e-05</td>\n",
       "    </tr>\n",
       "    <tr>\n",
       "      <th>velocity_4w</th>\n",
       "      <td>-0.060715</td>\n",
       "      <td>2.825748e+03</td>\n",
       "    </tr>\n",
       "  </tbody>\n",
       "</table>\n",
       "</div>"
      ],
      "text/plain": [
       "                                  Skewness           Min\n",
       "Feature                                                 \n",
       "days_since_request                9.278334  4.036860e-09\n",
       "session_length_in_minutes         3.315531  8.720274e-04\n",
       "bank_branch_count_8w              2.746926  0.000000e+00\n",
       "intended_balcon_amount            2.505943 -1.553055e+01\n",
       "zip_count_4w                      1.454840  1.000000e+00\n",
       "current_address_months_count      1.389416  0.000000e+00\n",
       "date_of_birth_distinct_emails_4w  0.703265  0.000000e+00\n",
       "velocity_6h                       0.563249 -1.554307e+02\n",
       "customer_age                      0.479187  1.000000e+01\n",
       "velocity_24h                      0.329749  1.300307e+03\n",
       "credit_risk_score                 0.296217 -1.690000e+02\n",
       "name_email_similarity             0.042499  1.015545e-05\n",
       "velocity_4w                      -0.060715  2.825748e+03"
      ]
     },
     "execution_count": 294,
     "metadata": {},
     "output_type": "execute_result"
    }
   ],
   "source": [
    "# test for skewness for possible log transformation\n",
    "from scipy.stats import skew\n",
    "numericals = data_types['numerical_continuous_bounded']+data_types['numerical_continuous_unbounded']+data_types['numerical_discrete']+['customer_age']\n",
    "to_drop = ['prev_address_months_count', 'bank_months_count']\n",
    "features = []\n",
    "skews = []\n",
    "min_values = []\n",
    "for i in numericals:\n",
    "    if i not in to_drop:\n",
    "        features.append(i)\n",
    "        skews.append(skew(X_train[i]))\n",
    "        min_values.append(min(X_train[i]))\n",
    "skews_df = pd.DataFrame({'Feature':features, 'Skewness':skews, 'Min':min_values}).sort_values('Skewness', ascending=False).set_index('Feature')\n",
    "skews_df\n"
   ]
  },
  {
   "cell_type": "code",
   "execution_count": 296,
   "metadata": {},
   "outputs": [
    {
     "data": {
      "text/html": [
       "<div>\n",
       "<style scoped>\n",
       "    .dataframe tbody tr th:only-of-type {\n",
       "        vertical-align: middle;\n",
       "    }\n",
       "\n",
       "    .dataframe tbody tr th {\n",
       "        vertical-align: top;\n",
       "    }\n",
       "\n",
       "    .dataframe thead th {\n",
       "        text-align: right;\n",
       "    }\n",
       "</style>\n",
       "<table border=\"1\" class=\"dataframe\">\n",
       "  <thead>\n",
       "    <tr style=\"text-align: right;\">\n",
       "      <th></th>\n",
       "      <th>range_orders_of_magnitude</th>\n",
       "      <th>Skewness</th>\n",
       "    </tr>\n",
       "    <tr>\n",
       "      <th>Feature</th>\n",
       "      <th></th>\n",
       "      <th></th>\n",
       "    </tr>\n",
       "  </thead>\n",
       "  <tbody>\n",
       "    <tr>\n",
       "      <th>zip_count_4w</th>\n",
       "      <td>3.826075</td>\n",
       "      <td>1.454840</td>\n",
       "    </tr>\n",
       "    <tr>\n",
       "      <th>bank_branch_count_8w</th>\n",
       "      <td>3.377670</td>\n",
       "      <td>2.746926</td>\n",
       "    </tr>\n",
       "    <tr>\n",
       "      <th>current_address_months_count</th>\n",
       "      <td>2.629410</td>\n",
       "      <td>1.389416</td>\n",
       "    </tr>\n",
       "    <tr>\n",
       "      <th>intended_balcon_amount</th>\n",
       "      <td>2.112228</td>\n",
       "      <td>2.505943</td>\n",
       "    </tr>\n",
       "    <tr>\n",
       "      <th>session_length_in_minutes</th>\n",
       "      <td>1.938263</td>\n",
       "      <td>3.315531</td>\n",
       "    </tr>\n",
       "    <tr>\n",
       "      <th>days_since_request</th>\n",
       "      <td>1.900132</td>\n",
       "      <td>9.278334</td>\n",
       "    </tr>\n",
       "  </tbody>\n",
       "</table>\n",
       "</div>"
      ],
      "text/plain": [
       "                              range_orders_of_magnitude  Skewness\n",
       "Feature                                                          \n",
       "zip_count_4w                                   3.826075  1.454840\n",
       "bank_branch_count_8w                           3.377670  2.746926\n",
       "current_address_months_count                   2.629410  1.389416\n",
       "intended_balcon_amount                         2.112228  2.505943\n",
       "session_length_in_minutes                      1.938263  3.315531\n",
       "days_since_request                             1.900132  9.278334"
      ]
     },
     "execution_count": 296,
     "metadata": {},
     "output_type": "execute_result"
    }
   ],
   "source": [
    "significant_skews = list(skews_df[skews_df.Skewness >= 1].index)\n",
    "# shift variables to push negative values above 0\n",
    "shifted_df = {}\n",
    "for i in significant_skews:\n",
    "    min_value = skews_df.loc[i].Min \n",
    "    if min_value <1 :\n",
    "        shifted_df[i] = X_train[i] + 1 + abs(min_value)\n",
    "    else:\n",
    "        shifted_df[i] = X_train[i]\n",
    "\n",
    "# check if range of values spans 3 orders of magnitude (largest value is over 10^3 time the smallest value)\n",
    "features = []\n",
    "range_orders_of_magnitude = []\n",
    "for i,j in shifted_df.items():\n",
    "    log_min = np.log10(min(j))\n",
    "    log_max = np.log10(max(j))\n",
    "    range_orders_of_magnitude.append(log_max - log_min)\n",
    "    features.append(i)\n",
    "magnitude_of_ranges_df = pd.DataFrame({'Feature': features, \n",
    "                                       'range_orders_of_magnitude':range_orders_of_magnitude}).sort_values('range_orders_of_magnitude', ascending=False).set_index('Feature')\n",
    "magnitude_of_ranges_df = magnitude_of_ranges_df.join(skews_df.drop('Min', axis=1), on='Feature', how='left')\n",
    "magnitude_of_ranges_df"
   ]
  },
  {
   "cell_type": "code",
   "execution_count": 310,
   "metadata": {},
   "outputs": [],
   "source": [
    "# `current_address_months_count` displays moderate skew and range below 3 orders of magnitude, so I will not log transform this variable\n",
    "# executing log transformation\n",
    "to_transform = list(magnitude_of_ranges_df.index.drop(['current_address_months_count']))\n",
    "\n",
    "# the features will be shifted up by the following values before log transformation occurs (if minimum value of a feature is 1 or above, there will be no shift)\n",
    "feature_shifts = {}\n",
    "for i in to_transform:\n",
    "    min_value = min(X_train[i])\n",
    "    if min_value < 1:\n",
    "        feature_shifts[i] = 1 + abs(min_value)\n",
    "    else:\n",
    "        feature_shifts[i] = 0\n",
    "\n",
    "# log transformations \n",
    "for i in to_transform:\n",
    "    # on training set\n",
    "    X_train[i] = np.log(X_train[i] + feature_shifts[i])\n",
    "\n",
    "    # on test set using feature shifts defined by training set\n",
    "    X_test[i] = np.log(X_test[i] + feature_shifts[i])"
   ]
  },
  {
   "cell_type": "code",
   "execution_count": 318,
   "metadata": {},
   "outputs": [
    {
     "data": {
      "text/html": [
       "<div>\n",
       "<style scoped>\n",
       "    .dataframe tbody tr th:only-of-type {\n",
       "        vertical-align: middle;\n",
       "    }\n",
       "\n",
       "    .dataframe tbody tr th {\n",
       "        vertical-align: top;\n",
       "    }\n",
       "\n",
       "    .dataframe thead th {\n",
       "        text-align: right;\n",
       "    }\n",
       "</style>\n",
       "<table border=\"1\" class=\"dataframe\">\n",
       "  <thead>\n",
       "    <tr style=\"text-align: right;\">\n",
       "      <th></th>\n",
       "      <th>Skewness_Before</th>\n",
       "      <th>Skewness_After</th>\n",
       "    </tr>\n",
       "    <tr>\n",
       "      <th>Feature</th>\n",
       "      <th></th>\n",
       "      <th></th>\n",
       "    </tr>\n",
       "  </thead>\n",
       "  <tbody>\n",
       "    <tr>\n",
       "      <th>zip_count_4w</th>\n",
       "      <td>1.454840</td>\n",
       "      <td>-0.358178</td>\n",
       "    </tr>\n",
       "    <tr>\n",
       "      <th>bank_branch_count_8w</th>\n",
       "      <td>2.746926</td>\n",
       "      <td>0.921697</td>\n",
       "    </tr>\n",
       "    <tr>\n",
       "      <th>intended_balcon_amount</th>\n",
       "      <td>2.505943</td>\n",
       "      <td>1.567151</td>\n",
       "    </tr>\n",
       "    <tr>\n",
       "      <th>session_length_in_minutes</th>\n",
       "      <td>3.315531</td>\n",
       "      <td>0.489976</td>\n",
       "    </tr>\n",
       "    <tr>\n",
       "      <th>days_since_request</th>\n",
       "      <td>9.278334</td>\n",
       "      <td>3.827958</td>\n",
       "    </tr>\n",
       "  </tbody>\n",
       "</table>\n",
       "</div>"
      ],
      "text/plain": [
       "                           Skewness_Before  Skewness_After\n",
       "Feature                                                   \n",
       "zip_count_4w                      1.454840       -0.358178\n",
       "bank_branch_count_8w              2.746926        0.921697\n",
       "intended_balcon_amount            2.505943        1.567151\n",
       "session_length_in_minutes         3.315531        0.489976\n",
       "days_since_request                9.278334        3.827958"
      ]
     },
     "execution_count": 318,
     "metadata": {},
     "output_type": "execute_result"
    }
   ],
   "source": [
    "# compare skewness after transformation\n",
    "features = []\n",
    "skews = []\n",
    "for i in to_transform:\n",
    "        features.append(i)\n",
    "        skews.append(skew(X_train[i]))\n",
    "skews_df = pd.DataFrame({'Feature':features, 'Skewness_After':skews}).set_index('Feature')\n",
    "magnitude_of_ranges_df.join(skews_df, on='Feature', how='inner').drop('range_orders_of_magnitude', axis=1).rename(columns={'Skewness':'Skewness_Before'})"
   ]
  },
  {
   "attachments": {},
   "cell_type": "markdown",
   "metadata": {},
   "source": [
    "### Scaling for numerical features"
   ]
  },
  {
   "cell_type": "code",
   "execution_count": 233,
   "metadata": {},
   "outputs": [],
   "source": [
    "# apply robust scaling\n",
    "from sklearn.preprocessing import RobustScaler\n",
    "\n",
    "# Initialize the RobustScaler\n",
    "scaler = RobustScaler()\n",
    "\n",
    "# Scale all numerical features in both train and test sets\n",
    "# X_train[numerical_columns] = scaler.fit_transform(X_train[numerical_columns])\n",
    "# X_test[numerical_columns] = scaler.transform(X_test[numerical_columns])"
   ]
  },
  {
   "cell_type": "code",
   "execution_count": 234,
   "metadata": {},
   "outputs": [],
   "source": [
    "# ready for training\n",
    "\n"
   ]
  },
  {
   "cell_type": "code",
   "execution_count": null,
   "metadata": {},
   "outputs": [],
   "source": []
  }
 ],
 "metadata": {
  "kernelspec": {
   "display_name": "pytf",
   "language": "python",
   "name": "python3"
  },
  "language_info": {
   "codemirror_mode": {
    "name": "ipython",
    "version": 3
   },
   "file_extension": ".py",
   "mimetype": "text/x-python",
   "name": "python",
   "nbconvert_exporter": "python",
   "pygments_lexer": "ipython3",
   "version": "3.11.2"
  },
  "orig_nbformat": 4
 },
 "nbformat": 4,
 "nbformat_minor": 2
}

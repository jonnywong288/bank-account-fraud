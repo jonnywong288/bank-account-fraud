{
 "cells": [
  {
   "cell_type": "code",
   "execution_count": 1,
   "metadata": {},
   "outputs": [],
   "source": [
    "# packages\n",
    "import pandas as pd\n",
    "import numpy as np\n",
    "pd.set_option('display.max_columns', None)\n",
    "import os\n",
    "\n",
    "# rebalancing\n",
    "from imblearn.over_sampling import SMOTENC\n",
    "\n",
    "# import feature data types\n",
    "import json\n",
    "with open('python_scripts/data_types.json') as f:\n",
    "    data_types = json.load(f) "
   ]
  },
  {
   "attachments": {},
   "cell_type": "markdown",
   "metadata": {},
   "source": [
    "### This notebook deals with resampling the data to handle extreme class imbalance in the dataset"
   ]
  },
  {
   "cell_type": "code",
   "execution_count": 7,
   "metadata": {},
   "outputs": [],
   "source": [
    "# reading training set to restructure\n",
    "X_train = pd.read_csv('data/X_train.csv')\n",
    "y_train = pd.read_csv('data/y_train.csv')"
   ]
  },
  {
   "attachments": {},
   "cell_type": "markdown",
   "metadata": {},
   "source": [
    "Currently there is extreme class imbalance in the dataset with approximately 100:1 negative:positive instances of fraud\n",
    "- Resampling strategy:\n",
    "    - to reduce the risk of overfitting to the specific fraud positive instances, we will oversample positive instances by varying degrees:\n",
    "        - 10:1 negative:positive ratio\n",
    "        - 4:1 negative:positive ratio \n",
    "        - 2:1 negative:positive ratio"
   ]
  },
  {
   "cell_type": "code",
   "execution_count": 8,
   "metadata": {},
   "outputs": [],
   "source": [
    "# Handling class imbalance\n",
    "# define nominal and continuous variables\n",
    "numericals = data_types['numerical_continuous_bounded']+data_types['numerical_continuous_unbounded']+data_types['numerical_discrete']+data_types['ordinal']\n",
    "to_drop = ['prev_address_months_count', 'bank_months_count', 'month'] # variables not used anymore\n",
    "numericals = [i for i in numericals if i not in to_drop]\n",
    "nominals = [i for i in X_train.columns if i not in numericals]\n",
    "\n",
    "# specify categorical feature indices\n",
    "categorical_columns_idx = [X_train.columns.get_loc(i) for i in nominals]"
   ]
  },
  {
   "attachments": {},
   "cell_type": "markdown",
   "metadata": {},
   "source": [
    "Tooling: apply smote nc (to handle nominal and categorical variables)\n"
   ]
  },
  {
   "cell_type": "code",
   "execution_count": 9,
   "metadata": {},
   "outputs": [
    {
     "data": {
      "text/plain": [
       "fraud_bool\n",
       "0             786838\n",
       "1              78683\n",
       "Name: count, dtype: int64"
      ]
     },
     "execution_count": 9,
     "metadata": {},
     "output_type": "execute_result"
    }
   ],
   "source": [
    "# 10:1 negative:positive \n",
    "smote_nc = SMOTENC(categorical_features=categorical_columns_idx, sampling_strategy=0.1, random_state=0)\n",
    "X_train_resampled_10, y_train_resampled_10 = smote_nc.fit_resample(X_train, y_train)\n",
    "y_train_resampled_10.value_counts()"
   ]
  },
  {
   "cell_type": "code",
   "execution_count": 10,
   "metadata": {},
   "outputs": [
    {
     "data": {
      "text/plain": [
       "fraud_bool\n",
       "0             786838\n",
       "1             196709\n",
       "Name: count, dtype: int64"
      ]
     },
     "execution_count": 10,
     "metadata": {},
     "output_type": "execute_result"
    }
   ],
   "source": [
    "# 4:1 negative:positive \n",
    "smote_nc = SMOTENC(categorical_features=categorical_columns_idx, sampling_strategy=0.25, random_state=0)\n",
    "X_train_resampled_25, y_train_resampled_25 = smote_nc.fit_resample(X_train, y_train)\n",
    "y_train_resampled_25.value_counts()"
   ]
  },
  {
   "cell_type": "code",
   "execution_count": 11,
   "metadata": {},
   "outputs": [
    {
     "data": {
      "text/plain": [
       "fraud_bool\n",
       "0             786838\n",
       "1             393419\n",
       "Name: count, dtype: int64"
      ]
     },
     "execution_count": 11,
     "metadata": {},
     "output_type": "execute_result"
    }
   ],
   "source": [
    "# 2:1 negative:positive\n",
    "smote_nc = SMOTENC(categorical_features=categorical_columns_idx, sampling_strategy=0.5, random_state=0)\n",
    "X_train_resampled_50, y_train_resampled_50 = smote_nc.fit_resample(X_train, y_train)\n",
    "y_train_resampled_50.value_counts()"
   ]
  },
  {
   "attachments": {},
   "cell_type": "markdown",
   "metadata": {},
   "source": [
    "Save resampled training sets to .csv"
   ]
  },
  {
   "cell_type": "code",
   "execution_count": 13,
   "metadata": {},
   "outputs": [],
   "source": [
    "data_folder = os.path.join(os.getcwd(), 'data/resampled')\n",
    "\n",
    "# 10:1\n",
    "file_path_train = os.path.join(data_folder, 'X_train_10.csv')\n",
    "file_path_test = os.path.join(data_folder, 'y_train_10.csv')\n",
    "X_train_resampled_10.to_csv(file_path_train, index=False)\n",
    "y_train_resampled_10.to_csv(file_path_test, index=False)\n",
    "\n",
    "# 4:1\n",
    "file_path_train = os.path.join(data_folder, 'X_train_25.csv')\n",
    "file_path_test = os.path.join(data_folder, 'y_train_25.csv')\n",
    "X_train_resampled_25.to_csv(file_path_train, index=False)\n",
    "y_train_resampled_25.to_csv(file_path_test, index=False)\n",
    "\n",
    "# 2:1\n",
    "file_path_train = os.path.join(data_folder, 'X_train_50.csv')\n",
    "file_path_test = os.path.join(data_folder, 'y_train_50.csv')\n",
    "X_train_resampled_50.to_csv(file_path_train, index=False)\n",
    "y_train_resampled_50.to_csv(file_path_test, index=False)"
   ]
  },
  {
   "cell_type": "code",
   "execution_count": null,
   "metadata": {},
   "outputs": [],
   "source": []
  }
 ],
 "metadata": {
  "kernelspec": {
   "display_name": "pyml",
   "language": "python",
   "name": "python3"
  },
  "language_info": {
   "codemirror_mode": {
    "name": "ipython",
    "version": 3
   },
   "file_extension": ".py",
   "mimetype": "text/x-python",
   "name": "python",
   "nbconvert_exporter": "python",
   "pygments_lexer": "ipython3",
   "version": "3.11.11"
  },
  "orig_nbformat": 4
 },
 "nbformat": 4,
 "nbformat_minor": 2
}

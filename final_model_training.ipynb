{
 "cells": [
  {
   "cell_type": "code",
   "execution_count": null,
   "id": "7ff10989-5ea1-48c8-bf63-e905bd2a7b78",
   "metadata": {},
   "outputs": [],
   "source": [
    "import pandas as pd\n",
    "import numpy as np\n",
    "import xgboost as xgb\n",
    "import yaml\n",
    "from sklearn.model_selection import RandomizedSearchCV\n",
    "from python_scripts.model_performance import generate_df_summary, predict_max_f1, save_model\n",
    "pd.set_option('display.max_columns', None)"
   ]
  },
  {
   "cell_type": "code",
   "execution_count": null,
   "id": "87d16278-bcd8-48e1-879a-544b0f454f28",
   "metadata": {},
   "outputs": [],
   "source": [
    "X_train = pd.read_parquet('data/X_train.parquet')\n",
    "y_train = pd.read_csv('data/y_train.csv')\n",
    "X_val = pd.read_parquet('data/X_val.parquet')\n",
    "y_val = pd.read_csv('data/y_val.csv')"
   ]
  },
  {
   "cell_type": "markdown",
   "id": "3a373216-9d08-4f08-973c-b0eb67b6cd20",
   "metadata": {},
   "source": [
    "### final random search"
   ]
  },
  {
   "cell_type": "code",
   "execution_count": null,
   "id": "9fadc7f3-50ea-4880-b7b6-94b531cba70e",
   "metadata": {
    "scrolled": true
   },
   "outputs": [],
   "source": [
    "xgb_model = xgb.XGBClassifier(\n",
    "    objective='binary:logistic', \n",
    "    eval_metric='auc'\n",
    ")\n",
    "\n",
    "# inital param search\n",
    "param_dist_new = {\n",
    "    'learning_rate': [0.015, 0.025, 0.05, 0.06, 0.075, 0.1],\n",
    "    'max_depth': [2, 3, 4, 5, 6],\n",
    "    'min_child_weight': [4,5,6,7],\n",
    "    'reg_lambda': [0.1, 1, 5, 10],\n",
    "    'reg_alpha': [0, 0.1, 0.5, 1, 3],\n",
    "    'scale_pos_weight': [5, 15, 25, 40, 50, 65],\n",
    "    'max_delta_step': [0, 1, 3, 5],\n",
    "    'gamma': [0.3, 0.5, 1, 1.5, 2],\n",
    "    'subsample': [0.5, 0.6, 0.7, 0.8, 0.9],\n",
    "    'colsample_bytree': [0.4, 0.5, 0.6, 0.7, 0.75],  \n",
    "\n",
    "    'n_estimators': [1000],\n",
    "    'early_stopping_rounds': [20],\n",
    "}\n",
    "\n",
    "\n",
    "# RandomizedSearchCV setup for parameter tuning\n",
    "random_search = RandomizedSearchCV(\n",
    "    estimator=xgb_model,\n",
    "    param_distributions=param_dist_new,\n",
    "    n_iter=1000, \n",
    "    scoring='average_precision',  \n",
    "    cv=5,  \n",
    "    verbose=0,  \n",
    "    random_state=0\n",
    ")\n",
    "\n",
    "# Fit the model (train and tune hyperparameters)\n",
    "random_search.fit(X_train, y_train, \n",
    "                  eval_set=[(X_val, y_val)])\n",
    "\n",
    "# Get the best model and print the results\n",
    "best_model = random_search.best_estimator_\n",
    "\n",
    "# Get the best iteration of the best model\n",
    "best_iteration = best_model.best_iteration + 1\n",
    "\n",
    "# Predictions and evaluation\n",
    "y_pred = best_model.predict(X_val)"
   ]
  },
  {
   "cell_type": "code",
   "execution_count": null,
   "id": "cefcf2ea-4443-4838-b9d8-532734c0fe34",
   "metadata": {},
   "outputs": [],
   "source": [
    "y_pred, best_threshold = predict_max_f1(best_model, X_val, y_val)\n",
    "generate_df_summary(best_model, y_val, y_pred, 'final_random_search', threshold=best_threshold)\n",
    "save_model(random_search, \"saved_models/final_random_search\")"
   ]
  },
  {
   "cell_type": "markdown",
   "id": "3bf46eb8-5c9c-491d-9664-3f9beef2de5f",
   "metadata": {},
   "source": [
    "### create yaml for best parameters"
   ]
  },
  {
   "cell_type": "code",
   "execution_count": null,
   "id": "ab33c047-9f4c-44a6-a2df-a8b192dfb44a",
   "metadata": {},
   "outputs": [],
   "source": [
    "# get best threshold for max f1 of best model\n",
    "model_performance = pd.read_csv('output/model_performance.csv')\n",
    "best_threshold = float(model_performance[model_performance['Name'] == 'final_random_search'].proba_threshold.values[0])\n",
    "\n",
    "# get best params from final random search\n",
    "final_params = pd.read_csv('saved_models/saved_models/final_random_search/results.csv').loc[0][['param_subsample', 'param_scale_pos_weight',\n",
    "       'param_reg_lambda', 'param_reg_alpha', 'param_n_estimators',\n",
    "       'param_min_child_weight', 'param_max_depth', 'param_max_delta_step',\n",
    "       'param_learning_rate', 'param_gamma',\n",
    "       'param_colsample_bytree']].to_dict()\n",
    "\n",
    "# replace default 1000 from random search with best iteration number of best model\n",
    "final_params['param_n_estimators'] = round(best_iteration * 1.05)\n",
    "\n",
    "cleaned_params = {\n",
    "    key.replace('param_', ''): value\n",
    "    for key, value in final_params.items()\n",
    "}\n",
    "\n",
    "to_yaml = {'hyperparameters': cleaned_params,\n",
    "           'best_threshold': best_threshold,}\n",
    "\n",
    "# save to yaml\n",
    "import yaml\n",
    "with open('model_settings.yaml', 'w') as file:\n",
    "    yaml.dump(to_yaml, file)\n",
    "\n",
    "print('Hyperparameters and optimised threshold saved to model_settings.yaml')\n",
    "to_yaml"
   ]
  },
  {
   "cell_type": "markdown",
   "id": "86f5959d-ed49-4b41-8e6f-c0a8f152ff9d",
   "metadata": {},
   "source": [
    "### retrain model on train and valiation sets combined"
   ]
  },
  {
   "cell_type": "code",
   "execution_count": null,
   "id": "b066dd08-cd0c-401c-9e8b-180d9f95739b",
   "metadata": {},
   "outputs": [],
   "source": [
    "# original training set but with the validation set included\n",
    "X_train_val = pd.read_parquet('data/X_train_val.parquet')\n",
    "y_train_val = pd.read_csv('data/y_train_val.csv')\n",
    "\n",
    "# get settings from yaml\n",
    "with open('model_settings.yaml', 'r') as file:\n",
    "    model_settings = yaml.safe_load(file)\n",
    "\n",
    "params = model_settings['hyperparameters']\n",
    "\n",
    "# final model\n",
    "final_model = xgb.XGBClassifier(\n",
    "    **params,  \n",
    "    objective='binary:logistic',  \n",
    "    eval_metric='auc',       \n",
    ")\n",
    "\n",
    "# fit final model\n",
    "final_model.fit(X_train_val, y_train_val)\n",
    "\n",
    "# save final model\n",
    "final_model.save_model('saved_models/final_model/final_model.json')\n",
    "\n",
    "print(\"Final model saved as final_model.json in saved_models/final_model/\")"
   ]
  },
  {
   "cell_type": "code",
   "execution_count": null,
   "id": "ab91699e-39fe-498a-a02c-0a75eb73dbce",
   "metadata": {},
   "outputs": [],
   "source": []
  }
 ],
 "metadata": {
  "kernelspec": {
   "display_name": "jonny_test",
   "language": "python",
   "name": "jonny_test"
  },
  "language_info": {
   "codemirror_mode": {
    "name": "ipython",
    "version": 3
   },
   "file_extension": ".py",
   "mimetype": "text/x-python",
   "name": "python",
   "nbconvert_exporter": "python",
   "pygments_lexer": "ipython3",
   "version": "3.10.16"
  }
 },
 "nbformat": 4,
 "nbformat_minor": 5
}
